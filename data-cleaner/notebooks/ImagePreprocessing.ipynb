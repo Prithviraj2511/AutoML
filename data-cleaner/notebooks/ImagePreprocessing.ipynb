{
 "cells": [
  {
   "cell_type": "markdown",
   "metadata": {},
   "source": [
    "## Module 1"
   ]
  },
  {
   "cell_type": "markdown",
   "metadata": {},
   "source": [
    "# Image Preprocessing"
   ]
  },
  {
   "cell_type": "markdown",
   "metadata": {},
   "source": [
    "### Importing libraries"
   ]
  },
  {
   "cell_type": "code",
   "execution_count": 7,
   "metadata": {},
   "outputs": [],
   "source": [
    "from zipfile import ZipFile, ZIP_DEFLATED\n",
    "\n",
    "import os\n",
    "import numpy as np\n",
    "import matplotlib.pyplot as plt\n",
    "import matplotlib.image as mpimg\n",
    "import cv2\n",
    "import glob"
   ]
  },
  {
   "cell_type": "markdown",
   "metadata": {},
   "source": [
    "### Root variables"
   ]
  },
  {
   "cell_type": "code",
   "execution_count": 8,
   "metadata": {},
   "outputs": [],
   "source": [
    "folder_path = \"./ImageFolder/\"\n",
    "user = 'animals.zip'  # Extracted from folder name"
   ]
  },
  {
   "cell_type": "markdown",
   "metadata": {},
   "source": [
    "### User defined functions"
   ]
  },
  {
   "cell_type": "code",
   "execution_count": 9,
   "metadata": {},
   "outputs": [],
   "source": [
    "def UnzipFolder(folder_path=folder_path, user=user):\n",
    "    with ZipFile(folder_path+user, 'r') as zipObj:\n",
    "        zipObj.extractall(folder_path)\n",
    "        user = user.replace(\".zip\", \"\")\n",
    "    return user"
   ]
  },
  {
   "cell_type": "code",
   "execution_count": 10,
   "metadata": {},
   "outputs": [],
   "source": [
    "def ImageProcess(folder_path=folder_path, user=user):\n",
    "    folder_names = os.listdir(folder_path)\n",
    "\n",
    "    # Store the folder names in class_names dictionary\n",
    "    class_names = {}\n",
    "    for name in folder_names:\n",
    "        try:\n",
    "            class_names[name] = (os.listdir(folder_path+name))\n",
    "        except:\n",
    "            continue\n",
    "    print(class_names)\n",
    "    # Store images in array form\n",
    "    img_size = 224\n",
    "    files = []\n",
    "    for i in class_names[user]:\n",
    "        images = []\n",
    "        for img in glob.glob(folder_path+user+\"/\"+i+\"/*.*\"):\n",
    "            img_arr = cv2.imread(img)[...,::-1]\n",
    "            img_arr = cv2.resize(img_arr, (img_size, img_size))\n",
    "\n",
    "            if(img_arr.shape[2] == 3):  # if image is colored (RGB)\n",
    "                img_arr_reshape = img_arr.reshape(img_arr.shape[0], -1)  # reshape it from 3D matrice to 2D matrice\n",
    "\n",
    "            else:  # if image is grayscale\n",
    "                img_arr_reshape = img_arr\n",
    "\n",
    "            images.append(img_arr_reshape)\n",
    "        images = np.array(images)\n",
    "        np.save(i, images)\n",
    "        files.append(i+'.npy')\n",
    "    return files"
   ]
  },
  {
   "cell_type": "code",
   "execution_count": 11,
   "metadata": {},
   "outputs": [],
   "source": [
    "def CheckZip(folder_path, user):\n",
    "    if user.endswith(\".zip\"):\n",
    "        user = UnzipFolder(folder_path, user)\n",
    "        print(f'{user} unzipped')\n",
    "    class_names=ImageProcess(folder_path, user)\n",
    "    print(\"Images saved\")\n",
    "\n",
    "    with ZipFile(user+'.zip', 'w') as zipF:\n",
    "        for file in class_names:\n",
    "            zipF.write(file, compress_type=ZIP_DEFLATED)\n",
    "    print('Final zip file saved')"
   ]
  },
  {
   "cell_type": "markdown",
   "metadata": {},
   "source": [
    "### Calling parent function"
   ]
  },
  {
   "cell_type": "code",
   "execution_count": 12,
   "metadata": {},
   "outputs": [
    {
     "name": "stdout",
     "output_type": "stream",
     "text": [
      "animals unzipped\n",
      "{'animals': ['cats', 'dogs'], 'cars': ['hatchback', 'sedan', 'suv']}\n",
      "Images saved\n",
      "Final zip file saved\n"
     ]
    }
   ],
   "source": [
    "CheckZip(folder_path, user)"
   ]
  },
  {
   "cell_type": "markdown",
   "metadata": {},
   "source": [
    "### Reading saved files"
   ]
  },
  {
   "cell_type": "code",
   "execution_count": 13,
   "metadata": {},
   "outputs": [],
   "source": [
    "loaded_array = np.load(\"./cats.npy\")\n",
    "load_original_arr = loaded_array.reshape(loaded_array.shape[0], loaded_array.shape[1], loaded_array.shape[2] // 3, 3)"
   ]
  },
  {
   "cell_type": "code",
   "execution_count": 14,
   "metadata": {},
   "outputs": [
    {
     "data": {
      "text/plain": [
       "(100, 224, 224, 3)"
      ]
     },
     "execution_count": 14,
     "metadata": {},
     "output_type": "execute_result"
    }
   ],
   "source": [
    "load_original_arr.shape"
   ]
  },
  {
   "cell_type": "code",
   "execution_count": 15,
   "metadata": {},
   "outputs": [
    {
     "data": {
      "text/plain": [
       "-1"
      ]
     },
     "execution_count": 15,
     "metadata": {},
     "output_type": "execute_result"
    }
   ],
   "source": [
    "cv2.imshow(\"cat\", load_original_arr[0])\n",
    "cv2.waitKey(0)"
   ]
  },
  {
   "cell_type": "code",
   "execution_count": 16,
   "metadata": {},
   "outputs": [],
   "source": [
    "loaded_array = np.load(\"./dogs.npy\")\n",
    "load_original_arr = loaded_array.reshape(loaded_array.shape[0], loaded_array.shape[1], loaded_array.shape[2] // 3, 3)"
   ]
  },
  {
   "cell_type": "code",
   "execution_count": 17,
   "metadata": {},
   "outputs": [
    {
     "data": {
      "text/plain": [
       "(100, 224, 224, 3)"
      ]
     },
     "execution_count": 17,
     "metadata": {},
     "output_type": "execute_result"
    }
   ],
   "source": [
    "load_original_arr.shape"
   ]
  },
  {
   "cell_type": "code",
   "execution_count": 18,
   "metadata": {},
   "outputs": [
    {
     "data": {
      "text/plain": [
       "-1"
      ]
     },
     "execution_count": 18,
     "metadata": {},
     "output_type": "execute_result"
    }
   ],
   "source": [
    "cv2.imshow(\"dog\", load_original_arr[0])\n",
    "cv2.waitKey(0)"
   ]
  },
  {
   "cell_type": "markdown",
   "metadata": {},
   "source": [
    "## End of Module 1"
   ]
  },
  {
   "cell_type": "code",
   "execution_count": null,
   "metadata": {},
   "outputs": [],
   "source": []
  },
  {
   "cell_type": "code",
   "execution_count": null,
   "metadata": {},
   "outputs": [],
   "source": []
  },
  {
   "cell_type": "code",
   "execution_count": null,
   "metadata": {},
   "outputs": [],
   "source": []
  },
  {
   "cell_type": "code",
   "execution_count": null,
   "metadata": {},
   "outputs": [],
   "source": []
  },
  {
   "cell_type": "code",
   "execution_count": null,
   "metadata": {},
   "outputs": [],
   "source": []
  },
  {
   "cell_type": "code",
   "execution_count": null,
   "metadata": {},
   "outputs": [],
   "source": []
  },
  {
   "cell_type": "code",
   "execution_count": null,
   "metadata": {},
   "outputs": [],
   "source": []
  },
  {
   "cell_type": "code",
   "execution_count": null,
   "metadata": {},
   "outputs": [],
   "source": []
  },
  {
   "cell_type": "code",
   "execution_count": null,
   "metadata": {},
   "outputs": [],
   "source": []
  },
  {
   "cell_type": "code",
   "execution_count": null,
   "metadata": {},
   "outputs": [],
   "source": []
  },
  {
   "cell_type": "code",
   "execution_count": null,
   "metadata": {},
   "outputs": [],
   "source": []
  },
  {
   "cell_type": "code",
   "execution_count": null,
   "metadata": {},
   "outputs": [],
   "source": []
  },
  {
   "cell_type": "code",
   "execution_count": null,
   "metadata": {},
   "outputs": [],
   "source": []
  },
  {
   "cell_type": "code",
   "execution_count": null,
   "metadata": {},
   "outputs": [],
   "source": []
  },
  {
   "cell_type": "code",
   "execution_count": null,
   "metadata": {},
   "outputs": [],
   "source": []
  },
  {
   "cell_type": "markdown",
   "metadata": {},
   "source": [
    "# Old"
   ]
  },
  {
   "cell_type": "code",
   "execution_count": 1,
   "metadata": {},
   "outputs": [],
   "source": [
    "from os import listdir\n",
    "from numpy import asarray\n",
    "from numpy import savez_compressed\n",
    "from PIL import Image # We have not used this Library as it gives errors for some Images in the dataset\n",
    "from matplotlib import pyplot\n",
    "import pandas as pd\n",
    "import cv2 # We will use cv2 library as it does not return any error while preprocessing\n",
    "from zipfile import ZipFile"
   ]
  },
  {
   "cell_type": "code",
   "execution_count": 2,
   "metadata": {},
   "outputs": [],
   "source": [
    "# Unzip files\n",
    "with ZipFile('angry.zip', 'r') as zipObj:\n",
    "   # Extract all the contents of zip file in current directory\n",
    "   zipObj.extractall()"
   ]
  },
  {
   "cell_type": "code",
   "execution_count": null,
   "metadata": {},
   "outputs": [],
   "source": [
    "# load an image as an rgb numpy array\n",
    "def load_image(filename):\n",
    "    # load image from file\n",
    "    \n",
    "    image = cv2.imread(filename,1)\n",
    "\n",
    "    image = cv2.cvtColor(image, cv2.COLOR_BGR2RGB)\n",
    "    # convert to array\n",
    "    required_size=(32, 32) # required size of the image\n",
    "    image = cv2.resize(image, required_size) \n",
    "    \n",
    "    pixels = asarray(image)\n",
    "    return pixels"
   ]
  },
  {
   "cell_type": "code",
   "execution_count": null,
   "metadata": {},
   "outputs": [],
   "source": [
    "# load images and extract faces for all images in a directory\n",
    "def create_image_array(directory):\n",
    "   \n",
    "    imgs = []\n",
    "    wdf=pd.read_csv(\"/path-to-csv-file/filename.csv\")\n",
    "    # Loading only first 10000 images as array. \n",
    "    # Note: You can use more images but consider the RAM limit that you have. \n",
    "    # Otherwise the session might collapse during tarining.\n",
    "    for index, row in wdf.iloc[:10000].dropna().iterrows():\n",
    "        \n",
    "      # load the image\n",
    "      pixels = load_image(directory + row['image_name'] + \".jpg\")\n",
    "      \n",
    "      imgs.append(pixels)\n",
    "      print(len(imgs), pixels.shape)\n",
    "      \n",
    "    return asarray(imgs)\n",
    "\n",
    "# This function is used when we have names of the image in a csv file. To read from folder we will write another function\n"
   ]
  },
  {
   "cell_type": "code",
   "execution_count": null,
   "metadata": {},
   "outputs": [],
   "source": [
    "# directory that contains all images\n",
    "directory = '/path-to-the-image-directory/'  \n",
    "# load and extract the images as numpy array\n",
    "gpimgs = create_image_array(directory)\n",
    "print('Loaded: ', gpimgs.shape)"
   ]
  },
  {
   "cell_type": "code",
   "execution_count": null,
   "metadata": {},
   "outputs": [],
   "source": [
    "savez_compressed('/path-to-save-numpy-zipped-array/filename.npz', gpimgs)"
   ]
  },
  {
   "cell_type": "code",
   "execution_count": null,
   "metadata": {},
   "outputs": [],
   "source": [
    "print('Loaded: ', gpimgs.shape)"
   ]
  }
 ],
 "metadata": {
  "kernelspec": {
   "display_name": "Python 3",
   "language": "python",
   "name": "python3"
  },
  "language_info": {
   "codemirror_mode": {
    "name": "ipython",
    "version": 3
   },
   "file_extension": ".py",
   "mimetype": "text/x-python",
   "name": "python",
   "nbconvert_exporter": "python",
   "pygments_lexer": "ipython3",
   "version": "3.7.5"
  }
 },
 "nbformat": 4,
 "nbformat_minor": 2
}
