{
 "cells": [
  {
   "cell_type": "markdown",
   "metadata": {},
   "source": [
    "# Image Preprocessing"
   ]
  },
  {
   "cell_type": "markdown",
   "metadata": {},
   "source": [
    "### 1. Importing libraries"
   ]
  },
  {
   "cell_type": "code",
   "execution_count": 96,
   "metadata": {},
   "outputs": [],
   "source": [
    "from zipfile import ZipFile, ZIP_DEFLATED\n",
    "\n",
    "import os\n",
    "import numpy as np\n",
    "import matplotlib.pyplot as plt\n",
    "import matplotlib.image as mpimg\n",
    "import cv2\n",
    "import glob"
   ]
  },
  {
   "cell_type": "markdown",
   "metadata": {},
   "source": [
    "### Root variables"
   ]
  },
  {
   "cell_type": "code",
   "execution_count": 97,
   "metadata": {},
   "outputs": [],
   "source": [
    "folder_path = \"./ImageFolder/\"\n",
    "user = 'animals.zip'  # Extracted from folder name"
   ]
  },
  {
   "cell_type": "markdown",
   "metadata": {},
   "source": [
    "### User defined functions"
   ]
  },
  {
   "cell_type": "code",
   "execution_count": 98,
   "metadata": {},
   "outputs": [],
   "source": [
    "def UnzipFolder(folder_path=folder_path, user=user):\n",
    "    with ZipFile(folder_path+user, 'r') as zipObj:\n",
    "        zipObj.extractall(folder_path)\n",
    "        user = user.replace(\".zip\", \"\")\n",
    "    return user"
   ]
  },
  {
   "cell_type": "code",
   "execution_count": 99,
   "metadata": {},
   "outputs": [],
   "source": [
    "def ImageProcess(folder_path=folder_path, user=user):\n",
    "    folder_names = os.listdir(folder_path)\n",
    "\n",
    "    # Store the folder names in class_names dictionary\n",
    "    class_names = {}\n",
    "    for name in folder_names:\n",
    "        try:\n",
    "            class_names[name] = (os.listdir(folder_path+name))\n",
    "        except:\n",
    "            continue\n",
    "    print(class_names)\n",
    "\n",
    "    # Store images in array form\n",
    "    img_size = 224\n",
    "    files = []\n",
    "    for i in class_names[user]:\n",
    "        images = []\n",
    "        for img in glob.glob(folder_path+user+\"/\"+i+\"/*.*\"):\n",
    "            img_arr = cv2.imread(img)[...,::-1]\n",
    "            img_arr = cv2.resize(img_arr, (img_size, img_size))\n",
    "\n",
    "            if(img_arr.shape[2] == 3):  # if image is colored (RGB)\n",
    "                img_arr_reshape = img_arr.reshape(img_arr.shape[0], -1)  # reshape it from 3D matrice to 2D matrice\n",
    "\n",
    "            else:  # if image is grayscale\n",
    "                img_arr_reshape = img_arr\n",
    "\n",
    "            images.append(img_arr_reshape)\n",
    "        images = np.array(images)\n",
    "        np.save(i, images)\n",
    "        files.append(i+'.npy')\n",
    "    return files"
   ]
  },
  {
   "cell_type": "code",
   "execution_count": 100,
   "metadata": {},
   "outputs": [],
   "source": [
    "def CheckZip(folder_path, user):\n",
    "    if user.endswith(\".zip\"):\n",
    "        user = UnzipFolder(folder_path, user)\n",
    "        print(f'{user} unzipped')\n",
    "    class_names=ImageProcess(folder_path, user)\n",
    "    print(\"Images saved\")\n",
    "\n",
    "    with ZipFile(user+'.zip', 'w') as zipF:\n",
    "        for file in class_names:\n",
    "            zipF.write(file, compress_type=ZIP_DEFLATED)\n",
    "    print('Final zip file saved')"
   ]
  },
  {
   "cell_type": "code",
   "execution_count": 101,
   "metadata": {},
   "outputs": [
    {
     "name": "stdout",
     "output_type": "stream",
     "text": [
      "animals unzipped\n",
      "{'animals': ['cats', 'dogs'], 'cars': ['hatchback', 'sedan', 'suv']}\n",
      "Images saved\n",
      "Final zip file saved\n"
     ]
    }
   ],
   "source": [
    "CheckZip(folder_path, user)"
   ]
  },
  {
   "cell_type": "code",
   "execution_count": 14,
   "metadata": {},
   "outputs": [],
   "source": [
    "load_original_arr = loaded_array.reshape(loaded_array.shape[0], loaded_array.shape[1], loaded_array.shape[2] // 3, 3)"
   ]
  },
  {
   "cell_type": "code",
   "execution_count": 15,
   "metadata": {},
   "outputs": [
    {
     "data": {
      "text/plain": [
       "(100, 218, 178, 3)"
      ]
     },
     "execution_count": 15,
     "metadata": {},
     "output_type": "execute_result"
    }
   ],
   "source": [
    "load_original_arr.shape"
   ]
  },
  {
   "cell_type": "code",
   "execution_count": 69,
   "metadata": {},
   "outputs": [],
   "source": [
    "arr = np.random.rand(5, 4, 3)"
   ]
  },
  {
   "cell_type": "code",
   "execution_count": 71,
   "metadata": {},
   "outputs": [
    {
     "data": {
      "text/plain": [
       "(5, 4, 3)"
      ]
     },
     "execution_count": 71,
     "metadata": {},
     "output_type": "execute_result"
    }
   ],
   "source": [
    "arr.shape"
   ]
  },
  {
   "cell_type": "code",
   "execution_count": 16,
   "metadata": {},
   "outputs": [
    {
     "data": {
      "text/plain": [
       "-1"
      ]
     },
     "execution_count": 16,
     "metadata": {},
     "output_type": "execute_result"
    }
   ],
   "source": [
    "cv2.imshow(\"i\", load_original_arr[0])\n",
    "cv2.waitKey(0)"
   ]
  },
  {
   "cell_type": "code",
   "execution_count": 102,
   "metadata": {},
   "outputs": [
    {
     "data": {
      "text/plain": [
       "(100, 224, 224, 3)"
      ]
     },
     "execution_count": 102,
     "metadata": {},
     "output_type": "execute_result"
    }
   ],
   "source": [
    "images.shape"
   ]
  },
  {
   "cell_type": "code",
   "execution_count": 103,
   "metadata": {},
   "outputs": [],
   "source": [
    "images = images/255"
   ]
  },
  {
   "cell_type": "code",
   "execution_count": 104,
   "metadata": {
    "collapsed": true
   },
   "outputs": [
    {
     "data": {
      "text/plain": [
       "array([[[[0.        , 0.        , 0.        ],\n",
       "         [0.        , 0.        , 0.        ],\n",
       "         [0.        , 0.        , 0.        ],\n",
       "         ...,\n",
       "         [0.        , 0.        , 0.        ],\n",
       "         [0.        , 0.        , 0.        ],\n",
       "         [0.        , 0.        , 0.        ]],\n",
       "\n",
       "        [[0.        , 0.        , 0.        ],\n",
       "         [0.        , 0.        , 0.        ],\n",
       "         [0.        , 0.        , 0.        ],\n",
       "         ...,\n",
       "         [0.        , 0.        , 0.        ],\n",
       "         [0.        , 0.        , 0.        ],\n",
       "         [0.        , 0.        , 0.        ]],\n",
       "\n",
       "        [[0.        , 0.        , 0.        ],\n",
       "         [0.        , 0.        , 0.        ],\n",
       "         [0.        , 0.        , 0.        ],\n",
       "         ...,\n",
       "         [0.        , 0.        , 0.        ],\n",
       "         [0.        , 0.        , 0.        ],\n",
       "         [0.        , 0.        , 0.        ]],\n",
       "\n",
       "        ...,\n",
       "\n",
       "        [[0.89019608, 0.94117647, 0.98431373],\n",
       "         [0.89019608, 0.94509804, 0.98823529],\n",
       "         [0.89803922, 0.94901961, 0.98823529],\n",
       "         ...,\n",
       "         [0.6745098 , 0.67843137, 0.66666667],\n",
       "         [0.65882353, 0.65882353, 0.65882353],\n",
       "         [0.65882353, 0.65882353, 0.65882353]],\n",
       "\n",
       "        [[0.87058824, 0.91764706, 0.96470588],\n",
       "         [0.88235294, 0.92941176, 0.97647059],\n",
       "         [0.89019608, 0.93333333, 0.97647059],\n",
       "         ...,\n",
       "         [0.6627451 , 0.66666667, 0.65882353],\n",
       "         [0.65882353, 0.65882353, 0.65882353],\n",
       "         [0.65882353, 0.65882353, 0.65882353]],\n",
       "\n",
       "        [[0.87058824, 0.91764706, 0.96470588],\n",
       "         [0.88235294, 0.92941176, 0.96862745],\n",
       "         [0.89019608, 0.9372549 , 0.97254902],\n",
       "         ...,\n",
       "         [0.67058824, 0.6745098 , 0.6627451 ],\n",
       "         [0.6745098 , 0.6745098 , 0.6745098 ],\n",
       "         [0.6745098 , 0.6745098 , 0.6745098 ]]],\n",
       "\n",
       "\n",
       "       [[[0.95294118, 0.95294118, 0.95294118],\n",
       "         [0.94901961, 0.94901961, 0.94901961],\n",
       "         [0.94509804, 0.94509804, 0.94509804],\n",
       "         ...,\n",
       "         [0.96470588, 0.96470588, 0.96470588],\n",
       "         [0.96470588, 0.96470588, 0.96470588],\n",
       "         [0.96470588, 0.96470588, 0.96470588]],\n",
       "\n",
       "        [[0.95294118, 0.95294118, 0.95294118],\n",
       "         [0.94901961, 0.94901961, 0.94901961],\n",
       "         [0.94509804, 0.94509804, 0.94509804],\n",
       "         ...,\n",
       "         [0.96470588, 0.96470588, 0.96470588],\n",
       "         [0.96470588, 0.96470588, 0.96470588],\n",
       "         [0.96470588, 0.96470588, 0.96470588]],\n",
       "\n",
       "        [[0.95294118, 0.95294118, 0.95294118],\n",
       "         [0.94901961, 0.94901961, 0.94901961],\n",
       "         [0.94509804, 0.94509804, 0.94509804],\n",
       "         ...,\n",
       "         [0.96470588, 0.96470588, 0.96470588],\n",
       "         [0.96470588, 0.96470588, 0.96470588],\n",
       "         [0.96470588, 0.96470588, 0.96470588]],\n",
       "\n",
       "        ...,\n",
       "\n",
       "        [[0.97254902, 0.9254902 , 0.94117647],\n",
       "         [0.96862745, 0.92941176, 0.95294118],\n",
       "         [0.96078431, 0.9372549 , 0.98039216],\n",
       "         ...,\n",
       "         [0.44705882, 0.42352941, 0.4       ],\n",
       "         [0.44313725, 0.41568627, 0.39215686],\n",
       "         [0.44313725, 0.41568627, 0.39215686]],\n",
       "\n",
       "        [[0.95294118, 0.9254902 , 0.95686275],\n",
       "         [0.94509804, 0.9254902 , 0.96078431],\n",
       "         [0.93333333, 0.93333333, 0.98039216],\n",
       "         ...,\n",
       "         [0.43921569, 0.41960784, 0.4       ],\n",
       "         [0.43921569, 0.41960784, 0.40392157],\n",
       "         [0.43921569, 0.41960784, 0.40392157]],\n",
       "\n",
       "        [[0.94901961, 0.9254902 , 0.96470588],\n",
       "         [0.94117647, 0.92941176, 0.97647059],\n",
       "         [0.92941176, 0.9372549 , 0.98823529],\n",
       "         ...,\n",
       "         [0.43921569, 0.41960784, 0.4       ],\n",
       "         [0.43921569, 0.41960784, 0.40392157],\n",
       "         [0.43921569, 0.41960784, 0.40392157]]],\n",
       "\n",
       "\n",
       "       [[[0.        , 0.        , 0.        ],\n",
       "         [0.        , 0.        , 0.        ],\n",
       "         [0.        , 0.        , 0.        ],\n",
       "         ...,\n",
       "         [0.        , 0.        , 0.        ],\n",
       "         [0.        , 0.        , 0.        ],\n",
       "         [0.        , 0.        , 0.        ]],\n",
       "\n",
       "        [[0.        , 0.        , 0.        ],\n",
       "         [0.        , 0.        , 0.        ],\n",
       "         [0.        , 0.        , 0.        ],\n",
       "         ...,\n",
       "         [0.        , 0.        , 0.        ],\n",
       "         [0.        , 0.        , 0.        ],\n",
       "         [0.        , 0.        , 0.        ]],\n",
       "\n",
       "        [[0.        , 0.        , 0.        ],\n",
       "         [0.        , 0.        , 0.        ],\n",
       "         [0.        , 0.        , 0.        ],\n",
       "         ...,\n",
       "         [0.        , 0.        , 0.        ],\n",
       "         [0.        , 0.        , 0.        ],\n",
       "         [0.        , 0.        , 0.        ]],\n",
       "\n",
       "        ...,\n",
       "\n",
       "        [[0.92156863, 0.91764706, 0.94117647],\n",
       "         [0.92156863, 0.91764706, 0.94117647],\n",
       "         [0.92156863, 0.91764706, 0.94117647],\n",
       "         ...,\n",
       "         [0.97254902, 0.90980392, 0.87058824],\n",
       "         [0.96078431, 0.90588235, 0.8627451 ],\n",
       "         [0.95686275, 0.90980392, 0.8627451 ]],\n",
       "\n",
       "        [[0.92156863, 0.91764706, 0.94117647],\n",
       "         [0.92156863, 0.91764706, 0.94117647],\n",
       "         [0.92156863, 0.91764706, 0.94117647],\n",
       "         ...,\n",
       "         [0.97647059, 0.91372549, 0.8745098 ],\n",
       "         [0.96470588, 0.91372549, 0.87058824],\n",
       "         [0.94901961, 0.90196078, 0.85490196]],\n",
       "\n",
       "        [[0.92156863, 0.91764706, 0.94117647],\n",
       "         [0.92156863, 0.91764706, 0.94117647],\n",
       "         [0.92156863, 0.91764706, 0.94117647],\n",
       "         ...,\n",
       "         [0.96078431, 0.89803922, 0.85490196],\n",
       "         [0.93333333, 0.87843137, 0.83529412],\n",
       "         [0.91372549, 0.86666667, 0.81960784]]],\n",
       "\n",
       "\n",
       "       ...,\n",
       "\n",
       "\n",
       "       [[[0.        , 0.        , 0.        ],\n",
       "         [0.        , 0.        , 0.        ],\n",
       "         [0.        , 0.        , 0.        ],\n",
       "         ...,\n",
       "         [0.        , 0.        , 0.        ],\n",
       "         [0.        , 0.        , 0.        ],\n",
       "         [0.        , 0.        , 0.        ]],\n",
       "\n",
       "        [[0.        , 0.        , 0.        ],\n",
       "         [0.        , 0.        , 0.        ],\n",
       "         [0.        , 0.        , 0.        ],\n",
       "         ...,\n",
       "         [0.        , 0.        , 0.        ],\n",
       "         [0.        , 0.        , 0.        ],\n",
       "         [0.        , 0.        , 0.        ]],\n",
       "\n",
       "        [[0.        , 0.        , 0.        ],\n",
       "         [0.        , 0.        , 0.        ],\n",
       "         [0.        , 0.        , 0.        ],\n",
       "         ...,\n",
       "         [0.        , 0.        , 0.        ],\n",
       "         [0.        , 0.        , 0.        ],\n",
       "         [0.        , 0.        , 0.        ]],\n",
       "\n",
       "        ...,\n",
       "\n",
       "        [[0.        , 0.        , 0.        ],\n",
       "         [0.        , 0.        , 0.        ],\n",
       "         [0.        , 0.        , 0.        ],\n",
       "         ...,\n",
       "         [0.25490196, 0.09803922, 0.07058824],\n",
       "         [0.25098039, 0.08627451, 0.0627451 ],\n",
       "         [0.25490196, 0.08627451, 0.0627451 ]],\n",
       "\n",
       "        [[0.        , 0.        , 0.        ],\n",
       "         [0.        , 0.        , 0.        ],\n",
       "         [0.        , 0.        , 0.        ],\n",
       "         ...,\n",
       "         [0.2627451 , 0.10588235, 0.08235294],\n",
       "         [0.25882353, 0.09803922, 0.0745098 ],\n",
       "         [0.25882353, 0.09803922, 0.0745098 ]],\n",
       "\n",
       "        [[0.        , 0.        , 0.        ],\n",
       "         [0.        , 0.        , 0.        ],\n",
       "         [0.        , 0.        , 0.        ],\n",
       "         ...,\n",
       "         [0.26666667, 0.11372549, 0.09019608],\n",
       "         [0.26666667, 0.10588235, 0.08235294],\n",
       "         [0.26666667, 0.10588235, 0.08235294]]],\n",
       "\n",
       "\n",
       "       [[[0.83921569, 0.78431373, 0.67843137],\n",
       "         [0.83921569, 0.78431373, 0.67843137],\n",
       "         [0.83921569, 0.78431373, 0.67843137],\n",
       "         ...,\n",
       "         [0.84313725, 0.78823529, 0.68235294],\n",
       "         [0.84705882, 0.79215686, 0.68627451],\n",
       "         [0.84705882, 0.79215686, 0.68627451]],\n",
       "\n",
       "        [[0.83921569, 0.78431373, 0.67843137],\n",
       "         [0.83921569, 0.78431373, 0.67843137],\n",
       "         [0.83921569, 0.78431373, 0.67843137],\n",
       "         ...,\n",
       "         [0.84313725, 0.78823529, 0.68235294],\n",
       "         [0.84705882, 0.79215686, 0.68627451],\n",
       "         [0.84705882, 0.79215686, 0.68627451]],\n",
       "\n",
       "        [[0.83921569, 0.78431373, 0.67843137],\n",
       "         [0.83921569, 0.78431373, 0.67843137],\n",
       "         [0.83921569, 0.78431373, 0.67843137],\n",
       "         ...,\n",
       "         [0.84313725, 0.78823529, 0.68235294],\n",
       "         [0.84705882, 0.79215686, 0.68627451],\n",
       "         [0.84705882, 0.79215686, 0.68627451]],\n",
       "\n",
       "        ...,\n",
       "\n",
       "        [[0.3254902 , 0.18823529, 0.03137255],\n",
       "         [0.29019608, 0.14509804, 0.00784314],\n",
       "         [0.31764706, 0.16470588, 0.02745098],\n",
       "         ...,\n",
       "         [0.94117647, 0.8627451 , 0.76078431],\n",
       "         [0.94117647, 0.8627451 , 0.76470588],\n",
       "         [0.94117647, 0.8627451 , 0.76470588]],\n",
       "\n",
       "        [[0.32156863, 0.17254902, 0.01960784],\n",
       "         [0.31372549, 0.16470588, 0.01176471],\n",
       "         [0.32941176, 0.17647059, 0.02352941],\n",
       "         ...,\n",
       "         [0.94117647, 0.8627451 , 0.76078431],\n",
       "         [0.9372549 , 0.8627451 , 0.76470588],\n",
       "         [0.93333333, 0.8627451 , 0.76862745]],\n",
       "\n",
       "        [[0.34117647, 0.19215686, 0.03921569],\n",
       "         [0.34509804, 0.19607843, 0.04313725],\n",
       "         [0.37254902, 0.21568627, 0.0627451 ],\n",
       "         ...,\n",
       "         [0.9372549 , 0.8627451 , 0.76470588],\n",
       "         [0.93333333, 0.8627451 , 0.76862745],\n",
       "         [0.93333333, 0.8627451 , 0.76862745]]],\n",
       "\n",
       "\n",
       "       [[[0.76078431, 0.82745098, 0.86666667],\n",
       "         [0.75686275, 0.82352941, 0.8627451 ],\n",
       "         [0.75294118, 0.81960784, 0.85882353],\n",
       "         ...,\n",
       "         [0.        , 0.        , 0.00784314],\n",
       "         [0.        , 0.        , 0.00784314],\n",
       "         [0.        , 0.        , 0.00784314]],\n",
       "\n",
       "        [[0.75294118, 0.81960784, 0.85882353],\n",
       "         [0.74901961, 0.81568627, 0.85490196],\n",
       "         [0.74901961, 0.81568627, 0.85490196],\n",
       "         ...,\n",
       "         [0.01176471, 0.01568627, 0.02352941],\n",
       "         [0.00392157, 0.00784314, 0.01568627],\n",
       "         [0.00392157, 0.00784314, 0.01568627]],\n",
       "\n",
       "        [[0.74509804, 0.81176471, 0.85098039],\n",
       "         [0.74509804, 0.81176471, 0.85098039],\n",
       "         [0.74509804, 0.80784314, 0.85098039],\n",
       "         ...,\n",
       "         [0.00784314, 0.01568627, 0.02745098],\n",
       "         [0.        , 0.00392157, 0.01568627],\n",
       "         [0.        , 0.00392157, 0.01568627]],\n",
       "\n",
       "        ...,\n",
       "\n",
       "        [[0.99607843, 0.92156863, 0.79607843],\n",
       "         [1.        , 0.9254902 , 0.8       ],\n",
       "         [1.        , 0.9254902 , 0.8       ],\n",
       "         ...,\n",
       "         [0.        , 0.        , 0.        ],\n",
       "         [0.        , 0.        , 0.        ],\n",
       "         [0.        , 0.        , 0.        ]],\n",
       "\n",
       "        [[1.        , 0.92941176, 0.80392157],\n",
       "         [1.        , 0.9254902 , 0.8       ],\n",
       "         [1.        , 0.9254902 , 0.8       ],\n",
       "         ...,\n",
       "         [0.        , 0.        , 0.        ],\n",
       "         [0.        , 0.        , 0.        ],\n",
       "         [0.        , 0.        , 0.        ]],\n",
       "\n",
       "        [[1.        , 0.92941176, 0.80392157],\n",
       "         [1.        , 0.9254902 , 0.8       ],\n",
       "         [1.        , 0.9254902 , 0.8       ],\n",
       "         ...,\n",
       "         [0.        , 0.        , 0.        ],\n",
       "         [0.        , 0.        , 0.        ],\n",
       "         [0.        , 0.        , 0.        ]]]])"
      ]
     },
     "execution_count": 104,
     "metadata": {},
     "output_type": "execute_result"
    }
   ],
   "source": [
    "images"
   ]
  },
  {
   "cell_type": "code",
   "execution_count": null,
   "metadata": {},
   "outputs": [],
   "source": []
  },
  {
   "cell_type": "code",
   "execution_count": null,
   "metadata": {},
   "outputs": [],
   "source": []
  },
  {
   "cell_type": "code",
   "execution_count": null,
   "metadata": {},
   "outputs": [],
   "source": []
  },
  {
   "cell_type": "code",
   "execution_count": null,
   "metadata": {},
   "outputs": [],
   "source": []
  },
  {
   "cell_type": "markdown",
   "metadata": {},
   "source": [
    "# Old"
   ]
  },
  {
   "cell_type": "code",
   "execution_count": 1,
   "metadata": {},
   "outputs": [],
   "source": [
    "from os import listdir\n",
    "from numpy import asarray\n",
    "from numpy import savez_compressed\n",
    "from PIL import Image # We have not used this Library as it gives errors for some Images in the dataset\n",
    "from matplotlib import pyplot\n",
    "import pandas as pd\n",
    "import cv2 # We will use cv2 library as it does not return any error while preprocessing\n",
    "from zipfile import ZipFile"
   ]
  },
  {
   "cell_type": "code",
   "execution_count": 2,
   "metadata": {},
   "outputs": [],
   "source": [
    "# Unzip files\n",
    "with ZipFile('angry.zip', 'r') as zipObj:\n",
    "   # Extract all the contents of zip file in current directory\n",
    "   zipObj.extractall()"
   ]
  },
  {
   "cell_type": "code",
   "execution_count": null,
   "metadata": {},
   "outputs": [],
   "source": [
    "# load an image as an rgb numpy array\n",
    "def load_image(filename):\n",
    "    # load image from file\n",
    "    \n",
    "    image = cv2.imread(filename,1)\n",
    "\n",
    "    image = cv2.cvtColor(image, cv2.COLOR_BGR2RGB)\n",
    "    # convert to array\n",
    "    required_size=(32, 32) # required size of the image\n",
    "    image = cv2.resize(image, required_size) \n",
    "    \n",
    "    pixels = asarray(image)\n",
    "    return pixels"
   ]
  },
  {
   "cell_type": "code",
   "execution_count": null,
   "metadata": {},
   "outputs": [],
   "source": [
    "# load images and extract faces for all images in a directory\n",
    "def create_image_array(directory):\n",
    "   \n",
    "    imgs = []\n",
    "    wdf=pd.read_csv(\"/path-to-csv-file/filename.csv\")\n",
    "    # Loading only first 10000 images as array. \n",
    "    # Note: You can use more images but consider the RAM limit that you have. \n",
    "    # Otherwise the session might collapse during tarining.\n",
    "    for index, row in wdf.iloc[:10000].dropna().iterrows():\n",
    "        \n",
    "      # load the image\n",
    "      pixels = load_image(directory + row['image_name'] + \".jpg\")\n",
    "      \n",
    "      imgs.append(pixels)\n",
    "      print(len(imgs), pixels.shape)\n",
    "      \n",
    "    return asarray(imgs)\n",
    "\n",
    "# This function is used when we have names of the image in a csv file. To read from folder we will write another function\n"
   ]
  },
  {
   "cell_type": "code",
   "execution_count": null,
   "metadata": {},
   "outputs": [],
   "source": [
    "# directory that contains all images\n",
    "directory = '/path-to-the-image-directory/'  \n",
    "# load and extract the images as numpy array\n",
    "gpimgs = create_image_array(directory)\n",
    "print('Loaded: ', gpimgs.shape)"
   ]
  },
  {
   "cell_type": "code",
   "execution_count": null,
   "metadata": {},
   "outputs": [],
   "source": [
    "savez_compressed('/path-to-save-numpy-zipped-array/filename.npz', gpimgs)"
   ]
  },
  {
   "cell_type": "code",
   "execution_count": null,
   "metadata": {},
   "outputs": [],
   "source": [
    "print('Loaded: ', gpimgs.shape)"
   ]
  }
 ],
 "metadata": {
  "kernelspec": {
   "display_name": "Python 3",
   "language": "python",
   "name": "python3"
  },
  "language_info": {
   "codemirror_mode": {
    "name": "ipython",
    "version": 3
   },
   "file_extension": ".py",
   "mimetype": "text/x-python",
   "name": "python",
   "nbconvert_exporter": "python",
   "pygments_lexer": "ipython3",
   "version": "3.7.5"
  }
 },
 "nbformat": 4,
 "nbformat_minor": 2
}
