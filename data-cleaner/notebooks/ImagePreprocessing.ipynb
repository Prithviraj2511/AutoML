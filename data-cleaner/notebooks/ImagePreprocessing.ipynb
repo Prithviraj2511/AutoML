{
 "cells": [
  {
   "cell_type": "markdown",
   "metadata": {},
   "source": [
    "## Module 1"
   ]
  },
  {
   "cell_type": "markdown",
   "metadata": {},
   "source": [
    "# Image Preprocessing"
   ]
  },
  {
   "cell_type": "markdown",
   "metadata": {},
   "source": [
    "### Importing libraries"
   ]
  },
  {
   "cell_type": "code",
   "execution_count": 1,
   "metadata": {},
   "outputs": [],
   "source": [
    "from zipfile import ZipFile, ZIP_DEFLATED\n",
    "\n",
    "import os\n",
    "import numpy as np\n",
    "import matplotlib.pyplot as plt\n",
    "import matplotlib.image as mpimg\n",
    "import cv2\n",
    "import glob"
   ]
  },
  {
   "cell_type": "markdown",
   "metadata": {},
   "source": [
    "### Root variables"
   ]
  },
  {
   "cell_type": "code",
   "execution_count": 2,
   "metadata": {},
   "outputs": [],
   "source": [
    "folder_path = \"./ImageFolder/\"\n",
    "user = 'animals.zip'  # Extracted from folder name"
   ]
  },
  {
   "cell_type": "markdown",
   "metadata": {},
   "source": [
    "### User defined functions"
   ]
  },
  {
   "cell_type": "code",
   "execution_count": 3,
   "metadata": {},
   "outputs": [],
   "source": [
    "def UnzipFolder(folder_path=folder_path, user=user):\n",
    "    with ZipFile(folder_path+user, 'r') as zipObj:\n",
    "        zipObj.extractall(folder_path)\n",
    "        user = user.replace(\".zip\", \"\")\n",
    "    return user"
   ]
  },
  {
   "cell_type": "code",
   "execution_count": 4,
   "metadata": {},
   "outputs": [],
   "source": [
    "def ImageProcess(folder_path=folder_path, user=user):\n",
    "    folder_names = os.listdir(folder_path)\n",
    "\n",
    "    # Store the folder names in class_names dictionary\n",
    "    class_names = {}\n",
    "    for name in folder_names:\n",
    "        try:\n",
    "            class_names[name] = (os.listdir(folder_path+name))\n",
    "        except:\n",
    "            continue\n",
    "    print(class_names)\n",
    "    # Store images in array form\n",
    "    img_size = 224\n",
    "    files = []\n",
    "    for i in class_names[user]:\n",
    "        images = []\n",
    "        for img in glob.glob(folder_path+user+\"/\"+i+\"/*.*\"):\n",
    "            img_arr = cv2.imread(img)[...,::-1]\n",
    "            img_arr = cv2.resize(img_arr, (img_size, img_size))\n",
    "\n",
    "            if(img_arr.shape[2] == 3):  # if image is colored (RGB)\n",
    "                img_arr_reshape = img_arr.reshape(img_arr.shape[0], -1)  # reshape it from 3D matrice to 2D matrice\n",
    "\n",
    "            else:  # if image is grayscale\n",
    "                img_arr_reshape = img_arr\n",
    "\n",
    "            images.append(img_arr_reshape)\n",
    "        images = np.array(images)\n",
    "        np.save(i, images)\n",
    "        files.append(i+'.npy')\n",
    "    return files"
   ]
  },
  {
   "cell_type": "code",
   "execution_count": 5,
   "metadata": {},
   "outputs": [],
   "source": [
    "def CheckZip(folder_path, user):\n",
    "    if user.endswith(\".zip\"):\n",
    "        user = UnzipFolder(folder_path, user)\n",
    "        print(f'{user} unzipped')\n",
    "    class_names=ImageProcess(folder_path, user)\n",
    "    print(\"Images saved\")\n",
    "\n",
    "    with ZipFile(user+'.zip', 'w') as zipF:\n",
    "        for file in class_names:\n",
    "            zipF.write(file, compress_type=ZIP_DEFLATED)\n",
    "    print('Final zip file saved')"
   ]
  },
  {
   "cell_type": "markdown",
   "metadata": {},
   "source": [
    "### Calling parent function"
   ]
  },
  {
   "cell_type": "code",
   "execution_count": 6,
   "metadata": {},
   "outputs": [
    {
     "name": "stdout",
     "output_type": "stream",
     "text": [
      "animals unzipped\n",
      "{'animals': ['cats', 'dogs'], 'cars': ['hatchback', 'sedan', 'suv']}\n",
      "Images saved\n",
      "Final zip file saved\n"
     ]
    }
   ],
   "source": [
    "CheckZip(folder_path, user)"
   ]
  },
  {
   "cell_type": "markdown",
   "metadata": {},
   "source": [
    "### Reading saved files"
   ]
  },
  {
   "cell_type": "code",
   "execution_count": 7,
   "metadata": {},
   "outputs": [],
   "source": [
    "loaded_array = np.load(\"./cats.npy\")\n",
    "load_original_arr = loaded_array.reshape(loaded_array.shape[0], loaded_array.shape[1], loaded_array.shape[2] // 3, 3)"
   ]
  },
  {
   "cell_type": "code",
   "execution_count": 13,
   "metadata": {},
   "outputs": [
    {
     "data": {
      "text/plain": [
       "array([[[[  0,   0,   0],\n",
       "         [  0,   0,   0],\n",
       "         [  0,   0,   0],\n",
       "         ...,\n",
       "         [  0,   0,   0],\n",
       "         [  0,   0,   0],\n",
       "         [  0,   0,   0]],\n",
       "\n",
       "        [[  0,   0,   0],\n",
       "         [  0,   0,   0],\n",
       "         [  0,   0,   0],\n",
       "         ...,\n",
       "         [  0,   0,   0],\n",
       "         [  0,   0,   0],\n",
       "         [  0,   0,   0]],\n",
       "\n",
       "        [[  0,   0,   0],\n",
       "         [  0,   0,   0],\n",
       "         [  0,   0,   0],\n",
       "         ...,\n",
       "         [  0,   0,   0],\n",
       "         [  0,   0,   0],\n",
       "         [  0,   0,   0]],\n",
       "\n",
       "        ...,\n",
       "\n",
       "        [[187, 163, 159],\n",
       "         [189, 165, 161],\n",
       "         [191, 167, 163],\n",
       "         ...,\n",
       "         [142, 136, 139],\n",
       "         [136, 131, 135],\n",
       "         [137, 132, 136]],\n",
       "\n",
       "        [[188, 163, 159],\n",
       "         [189, 164, 160],\n",
       "         [187, 162, 158],\n",
       "         ...,\n",
       "         [138, 133, 136],\n",
       "         [138, 134, 137],\n",
       "         [140, 135, 139]],\n",
       "\n",
       "        [[188, 163, 159],\n",
       "         [188, 164, 160],\n",
       "         [187, 162, 158],\n",
       "         ...,\n",
       "         [128, 123, 126],\n",
       "         [137, 131, 136],\n",
       "         [138, 133, 137]]],\n",
       "\n",
       "\n",
       "       [[[ 93, 108,  85],\n",
       "         [ 81,  96,  73],\n",
       "         [ 68,  83,  60],\n",
       "         ...,\n",
       "         [ 67,  68,  61],\n",
       "         [ 53,  54,  48],\n",
       "         [ 51,  52,  46]],\n",
       "\n",
       "        [[ 97, 112,  89],\n",
       "         [ 84,  99,  76],\n",
       "         [ 70,  86,  62],\n",
       "         ...,\n",
       "         [ 59,  59,  52],\n",
       "         [ 48,  49,  43],\n",
       "         [ 47,  48,  42]],\n",
       "\n",
       "        [[ 98, 113,  90],\n",
       "         [ 86, 101,  78],\n",
       "         [ 72,  87,  64],\n",
       "         ...,\n",
       "         [ 53,  54,  47],\n",
       "         [ 46,  47,  41],\n",
       "         [ 45,  46,  40]],\n",
       "\n",
       "        ...,\n",
       "\n",
       "        [[208, 194, 181],\n",
       "         [214, 200, 187],\n",
       "         [222, 209, 196],\n",
       "         ...,\n",
       "         [224, 215, 204],\n",
       "         [225, 217, 206],\n",
       "         [228, 220, 209]],\n",
       "\n",
       "        [[206, 192, 181],\n",
       "         [217, 203, 192],\n",
       "         [224, 211, 200],\n",
       "         ...,\n",
       "         [227, 218, 207],\n",
       "         [229, 221, 210],\n",
       "         [231, 223, 212]],\n",
       "\n",
       "        [[210, 196, 185],\n",
       "         [222, 210, 198],\n",
       "         [232, 220, 209],\n",
       "         ...,\n",
       "         [227, 218, 207],\n",
       "         [230, 221, 211],\n",
       "         [231, 223, 212]]],\n",
       "\n",
       "\n",
       "       [[[ 89,  86,  71],\n",
       "         [ 98,  95,  80],\n",
       "         [112, 109,  94],\n",
       "         ...,\n",
       "         [  2,   2,   2],\n",
       "         [  0,   0,   0],\n",
       "         [  0,   0,   0]],\n",
       "\n",
       "        [[ 69,  66,  51],\n",
       "         [ 78,  75,  60],\n",
       "         [ 91,  88,  73],\n",
       "         ...,\n",
       "         [  0,   0,   0],\n",
       "         [  0,   0,   0],\n",
       "         [  0,   0,   0]],\n",
       "\n",
       "        [[ 69,  66,  51],\n",
       "         [ 78,  75,  60],\n",
       "         [ 92,  89,  74],\n",
       "         ...,\n",
       "         [  0,   0,   0],\n",
       "         [  0,   0,   0],\n",
       "         [  0,   0,   0]],\n",
       "\n",
       "        ...,\n",
       "\n",
       "        [[175, 169, 147],\n",
       "         [174, 168, 146],\n",
       "         [173, 167, 145],\n",
       "         ...,\n",
       "         [127, 123, 109],\n",
       "         [126, 123, 108],\n",
       "         [126, 123, 108]],\n",
       "\n",
       "        [[172, 166, 144],\n",
       "         [172, 166, 144],\n",
       "         [172, 166, 144],\n",
       "         ...,\n",
       "         [136, 133, 119],\n",
       "         [135, 132, 117],\n",
       "         [135, 132, 117]],\n",
       "\n",
       "        [[172, 166, 144],\n",
       "         [172, 166, 144],\n",
       "         [172, 166, 144],\n",
       "         ...,\n",
       "         [137, 134, 120],\n",
       "         [135, 132, 117],\n",
       "         [135, 132, 117]]],\n",
       "\n",
       "\n",
       "       ...,\n",
       "\n",
       "\n",
       "       [[[127,  76,  81],\n",
       "         [123,  71,  75],\n",
       "         [120,  65,  69],\n",
       "         ...,\n",
       "         [233, 229, 217],\n",
       "         [233, 229, 217],\n",
       "         [233, 229, 217]],\n",
       "\n",
       "        [[150,  99, 104],\n",
       "         [141,  89,  94],\n",
       "         [132,  77,  81],\n",
       "         ...,\n",
       "         [232, 228, 216],\n",
       "         [231, 227, 215],\n",
       "         [231, 227, 215]],\n",
       "\n",
       "        [[177, 125, 129],\n",
       "         [167, 113, 116],\n",
       "         [153,  96,  98],\n",
       "         ...,\n",
       "         [231, 227, 215],\n",
       "         [230, 226, 214],\n",
       "         [230, 226, 214]],\n",
       "\n",
       "        ...,\n",
       "\n",
       "        [[119, 106,  97],\n",
       "         [114, 101,  92],\n",
       "         [108,  96,  85],\n",
       "         ...,\n",
       "         [103,  77,  63],\n",
       "         [106,  70,  55],\n",
       "         [107,  65,  51]],\n",
       "\n",
       "        [[ 91,  78,  69],\n",
       "         [ 92,  79,  70],\n",
       "         [ 97,  84,  73],\n",
       "         ...,\n",
       "         [ 76,  50,  35],\n",
       "         [ 95,  59,  44],\n",
       "         [108,  67,  50]],\n",
       "\n",
       "        [[ 93,  80,  71],\n",
       "         [ 95,  82,  73],\n",
       "         [100,  88,  77],\n",
       "         ...,\n",
       "         [ 67,  41,  26],\n",
       "         [ 86,  50,  35],\n",
       "         [ 99,  57,  41]]],\n",
       "\n",
       "\n",
       "       [[[141, 123, 113],\n",
       "         [126, 109,  99],\n",
       "         [119, 102,  93],\n",
       "         ...,\n",
       "         [  1,   0,   0],\n",
       "         [  1,   0,   0],\n",
       "         [  1,   0,   0]],\n",
       "\n",
       "        [[164, 146, 136],\n",
       "         [151, 134, 124],\n",
       "         [146, 129, 121],\n",
       "         ...,\n",
       "         [  0,   0,   0],\n",
       "         [  1,   0,   0],\n",
       "         [  1,   0,   0]],\n",
       "\n",
       "        [[179, 161, 151],\n",
       "         [164, 147, 137],\n",
       "         [157, 140, 132],\n",
       "         ...,\n",
       "         [  0,   0,   0],\n",
       "         [  0,   0,   0],\n",
       "         [  0,   0,   0]],\n",
       "\n",
       "        ...,\n",
       "\n",
       "        [[  5,   5,   5],\n",
       "         [  1,   1,   1],\n",
       "         [  1,   1,   1],\n",
       "         ...,\n",
       "         [120, 115, 109],\n",
       "         [113, 109, 105],\n",
       "         [114, 109, 105]],\n",
       "\n",
       "        [[  0,   0,   0],\n",
       "         [  0,   0,   0],\n",
       "         [  0,   0,   0],\n",
       "         ...,\n",
       "         [127, 124, 117],\n",
       "         [119, 116, 111],\n",
       "         [119, 116, 111]],\n",
       "\n",
       "        [[  0,   0,   0],\n",
       "         [  0,   0,   0],\n",
       "         [  0,   0,   0],\n",
       "         ...,\n",
       "         [129, 126, 119],\n",
       "         [123, 120, 115],\n",
       "         [123, 120, 115]]],\n",
       "\n",
       "\n",
       "       [[[246, 247, 252],\n",
       "         [246, 247, 252],\n",
       "         [246, 247, 252],\n",
       "         ...,\n",
       "         [245, 246, 251],\n",
       "         [245, 246, 251],\n",
       "         [245, 246, 251]],\n",
       "\n",
       "        [[246, 247, 252],\n",
       "         [246, 247, 252],\n",
       "         [246, 247, 252],\n",
       "         ...,\n",
       "         [245, 246, 251],\n",
       "         [245, 246, 251],\n",
       "         [245, 246, 251]],\n",
       "\n",
       "        [[246, 247, 252],\n",
       "         [246, 247, 252],\n",
       "         [246, 247, 252],\n",
       "         ...,\n",
       "         [245, 246, 251],\n",
       "         [245, 246, 251],\n",
       "         [245, 246, 251]],\n",
       "\n",
       "        ...,\n",
       "\n",
       "        [[209, 212, 219],\n",
       "         [209, 212, 219],\n",
       "         [208, 211, 218],\n",
       "         ...,\n",
       "         [129, 135, 151],\n",
       "         [128, 134, 150],\n",
       "         [127, 133, 149]],\n",
       "\n",
       "        [[210, 213, 220],\n",
       "         [206, 209, 216],\n",
       "         [201, 203, 210],\n",
       "         ...,\n",
       "         [123, 129, 145],\n",
       "         [130, 136, 152],\n",
       "         [126, 132, 148]],\n",
       "\n",
       "        [[210, 213, 220],\n",
       "         [206, 209, 216],\n",
       "         [200, 203, 210],\n",
       "         ...,\n",
       "         [128, 134, 150],\n",
       "         [125, 131, 147],\n",
       "         [122, 128, 144]]]], dtype=uint8)"
      ]
     },
     "execution_count": 13,
     "metadata": {},
     "output_type": "execute_result"
    }
   ],
   "source": [
    "load_original_arr"
   ]
  },
  {
   "cell_type": "code",
   "execution_count": 8,
   "metadata": {},
   "outputs": [
    {
     "data": {
      "text/plain": [
       "(100, 224, 224, 3)"
      ]
     },
     "execution_count": 8,
     "metadata": {},
     "output_type": "execute_result"
    }
   ],
   "source": [
    "load_original_arr.shape"
   ]
  },
  {
   "cell_type": "code",
   "execution_count": 9,
   "metadata": {},
   "outputs": [
    {
     "data": {
      "text/plain": [
       "-1"
      ]
     },
     "execution_count": 9,
     "metadata": {},
     "output_type": "execute_result"
    }
   ],
   "source": [
    "cv2.imshow(\"cat\", load_original_arr[0])\n",
    "cv2.waitKey(0)"
   ]
  },
  {
   "cell_type": "code",
   "execution_count": 10,
   "metadata": {},
   "outputs": [],
   "source": [
    "loaded_array = np.load(\"./dogs.npy\")\n",
    "load_original_arr = loaded_array.reshape(loaded_array.shape[0], loaded_array.shape[1], loaded_array.shape[2] // 3, 3)"
   ]
  },
  {
   "cell_type": "code",
   "execution_count": 11,
   "metadata": {},
   "outputs": [
    {
     "data": {
      "text/plain": [
       "(100, 224, 224, 3)"
      ]
     },
     "execution_count": 11,
     "metadata": {},
     "output_type": "execute_result"
    }
   ],
   "source": [
    "load_original_arr.shape"
   ]
  },
  {
   "cell_type": "code",
   "execution_count": 12,
   "metadata": {},
   "outputs": [
    {
     "data": {
      "text/plain": [
       "-1"
      ]
     },
     "execution_count": 12,
     "metadata": {},
     "output_type": "execute_result"
    }
   ],
   "source": [
    "cv2.imshow(\"dog\", load_original_arr[0])\n",
    "cv2.waitKey(0)"
   ]
  },
  {
   "cell_type": "markdown",
   "metadata": {},
   "source": [
    "## End of Module 1"
   ]
  },
  {
   "cell_type": "code",
   "execution_count": null,
   "metadata": {},
   "outputs": [],
   "source": []
  },
  {
   "cell_type": "code",
   "execution_count": null,
   "metadata": {},
   "outputs": [],
   "source": []
  },
  {
   "cell_type": "code",
   "execution_count": null,
   "metadata": {},
   "outputs": [],
   "source": []
  },
  {
   "cell_type": "code",
   "execution_count": null,
   "metadata": {},
   "outputs": [],
   "source": []
  },
  {
   "cell_type": "code",
   "execution_count": null,
   "metadata": {},
   "outputs": [],
   "source": []
  },
  {
   "cell_type": "code",
   "execution_count": null,
   "metadata": {},
   "outputs": [],
   "source": []
  },
  {
   "cell_type": "code",
   "execution_count": null,
   "metadata": {},
   "outputs": [],
   "source": []
  },
  {
   "cell_type": "code",
   "execution_count": null,
   "metadata": {},
   "outputs": [],
   "source": []
  },
  {
   "cell_type": "code",
   "execution_count": null,
   "metadata": {},
   "outputs": [],
   "source": []
  },
  {
   "cell_type": "code",
   "execution_count": null,
   "metadata": {},
   "outputs": [],
   "source": []
  },
  {
   "cell_type": "code",
   "execution_count": null,
   "metadata": {},
   "outputs": [],
   "source": []
  },
  {
   "cell_type": "code",
   "execution_count": null,
   "metadata": {},
   "outputs": [],
   "source": []
  },
  {
   "cell_type": "code",
   "execution_count": null,
   "metadata": {},
   "outputs": [],
   "source": []
  },
  {
   "cell_type": "code",
   "execution_count": null,
   "metadata": {},
   "outputs": [],
   "source": []
  },
  {
   "cell_type": "code",
   "execution_count": null,
   "metadata": {},
   "outputs": [],
   "source": []
  },
  {
   "cell_type": "markdown",
   "metadata": {},
   "source": [
    "# Old"
   ]
  },
  {
   "cell_type": "code",
   "execution_count": 1,
   "metadata": {},
   "outputs": [],
   "source": [
    "from os import listdir\n",
    "from numpy import asarray\n",
    "from numpy import savez_compressed\n",
    "from PIL import Image # We have not used this Library as it gives errors for some Images in the dataset\n",
    "from matplotlib import pyplot\n",
    "import pandas as pd\n",
    "import cv2 # We will use cv2 library as it does not return any error while preprocessing\n",
    "from zipfile import ZipFile"
   ]
  },
  {
   "cell_type": "code",
   "execution_count": 2,
   "metadata": {},
   "outputs": [],
   "source": [
    "# Unzip files\n",
    "with ZipFile('angry.zip', 'r') as zipObj:\n",
    "   # Extract all the contents of zip file in current directory\n",
    "   zipObj.extractall()"
   ]
  },
  {
   "cell_type": "code",
   "execution_count": null,
   "metadata": {},
   "outputs": [],
   "source": [
    "# load an image as an rgb numpy array\n",
    "def load_image(filename):\n",
    "    # load image from file\n",
    "    \n",
    "    image = cv2.imread(filename,1)\n",
    "\n",
    "    image = cv2.cvtColor(image, cv2.COLOR_BGR2RGB)\n",
    "    # convert to array\n",
    "    required_size=(32, 32) # required size of the image\n",
    "    image = cv2.resize(image, required_size) \n",
    "    \n",
    "    pixels = asarray(image)\n",
    "    return pixels"
   ]
  },
  {
   "cell_type": "code",
   "execution_count": null,
   "metadata": {},
   "outputs": [],
   "source": [
    "# load images and extract faces for all images in a directory\n",
    "def create_image_array(directory):\n",
    "   \n",
    "    imgs = []\n",
    "    wdf=pd.read_csv(\"/path-to-csv-file/filename.csv\")\n",
    "    # Loading only first 10000 images as array. \n",
    "    # Note: You can use more images but consider the RAM limit that you have. \n",
    "    # Otherwise the session might collapse during tarining.\n",
    "    for index, row in wdf.iloc[:10000].dropna().iterrows():\n",
    "        \n",
    "      # load the image\n",
    "      pixels = load_image(directory + row['image_name'] + \".jpg\")\n",
    "      \n",
    "      imgs.append(pixels)\n",
    "      print(len(imgs), pixels.shape)\n",
    "      \n",
    "    return asarray(imgs)\n",
    "\n",
    "# This function is used when we have names of the image in a csv file. To read from folder we will write another function\n"
   ]
  },
  {
   "cell_type": "code",
   "execution_count": null,
   "metadata": {},
   "outputs": [],
   "source": [
    "# directory that contains all images\n",
    "directory = '/path-to-the-image-directory/'  \n",
    "# load and extract the images as numpy array\n",
    "gpimgs = create_image_array(directory)\n",
    "print('Loaded: ', gpimgs.shape)"
   ]
  },
  {
   "cell_type": "code",
   "execution_count": null,
   "metadata": {},
   "outputs": [],
   "source": [
    "savez_compressed('/path-to-save-numpy-zipped-array/filename.npz', gpimgs)"
   ]
  },
  {
   "cell_type": "code",
   "execution_count": null,
   "metadata": {},
   "outputs": [],
   "source": [
    "print('Loaded: ', gpimgs.shape)"
   ]
  }
 ],
 "metadata": {
  "kernelspec": {
   "display_name": "Python 3",
   "language": "python",
   "name": "python3"
  },
  "language_info": {
   "codemirror_mode": {
    "name": "ipython",
    "version": 3
   },
   "file_extension": ".py",
   "mimetype": "text/x-python",
   "name": "python",
   "nbconvert_exporter": "python",
   "pygments_lexer": "ipython3",
   "version": "3.7.5"
  }
 },
 "nbformat": 4,
 "nbformat_minor": 2
}
