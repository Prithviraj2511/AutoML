{
 "cells": [
  {
   "cell_type": "code",
   "execution_count": 1,
   "metadata": {},
   "outputs": [],
   "source": [
    "from os import listdir\n",
    "from numpy import asarray\n",
    "from numpy import savez_compressed\n",
    "from PIL import Image # We have not used this Library as it gives errors for some Images in the dataset\n",
    "from matplotlib import pyplot\n",
    "import pandas as pd\n",
    "import cv2 # We will use cv2 library as it does not return any error while preprocessing\n",
    "from zipfile import ZipFile"
   ]
  },
  {
   "cell_type": "code",
   "execution_count": 2,
   "metadata": {},
   "outputs": [],
   "source": [
    "# Unzip files\n",
    "with ZipFile('angry.zip', 'r') as zipObj:\n",
    "   # Extract all the contents of zip file in current directory\n",
    "   zipObj.extractall()"
   ]
  },
  {
   "cell_type": "code",
   "execution_count": null,
   "metadata": {},
   "outputs": [],
   "source": [
    "# load an image as an rgb numpy array\n",
    "def load_image(filename):\n",
    "    # load image from file\n",
    "    \n",
    "    image = cv2.imread(filename,1)\n",
    "\n",
    "    image = cv2.cvtColor(image, cv2.COLOR_BGR2RGB)\n",
    "    # convert to array\n",
    "    required_size=(32, 32) # required size of the image\n",
    "    image = cv2.resize(image, required_size) \n",
    "    \n",
    "    pixels = asarray(image)\n",
    "    return pixels"
   ]
  },
  {
   "cell_type": "code",
   "execution_count": null,
   "metadata": {},
   "outputs": [],
   "source": [
    "# load images and extract faces for all images in a directory\n",
    "def create_image_array(directory):\n",
    "   \n",
    "    imgs = []\n",
    "    wdf=pd.read_csv(\"/path-to-csv-file/filename.csv\")\n",
    "    # Loading only first 10000 images as array. \n",
    "    # Note: You can use more images but consider the RAM limit that you have. \n",
    "    # Otherwise the session might collapse during tarining.\n",
    "    for index, row in wdf.iloc[:10000].dropna().iterrows():\n",
    "        \n",
    "      # load the image\n",
    "      pixels = load_image(directory + row['image_name'] + \".jpg\")\n",
    "      \n",
    "      imgs.append(pixels)\n",
    "      print(len(imgs), pixels.shape)\n",
    "      \n",
    "    return asarray(imgs)\n",
    "\n",
    "# This function is used when we have names of the image in a csv file. To read from folder we will write another function\n"
   ]
  },
  {
   "cell_type": "code",
   "execution_count": null,
   "metadata": {},
   "outputs": [],
   "source": [
    "# directory that contains all images\n",
    "directory = '/path-to-the-image-directory/'  \n",
    "# load and extract the images as numpy array\n",
    "gpimgs = create_image_array(directory)\n",
    "print('Loaded: ', gpimgs.shape)"
   ]
  },
  {
   "cell_type": "code",
   "execution_count": null,
   "metadata": {},
   "outputs": [],
   "source": [
    "savez_compressed('/path-to-save-numpy-zipped-array/filename.npz', gpimgs)"
   ]
  },
  {
   "cell_type": "code",
   "execution_count": null,
   "metadata": {},
   "outputs": [],
   "source": [
    "print('Loaded: ', gpimgs.shape)"
   ]
  },
  {
   "cell_type": "code",
   "execution_count": null,
   "metadata": {},
   "outputs": [],
   "source": []
  }
 ],
 "metadata": {
  "kernelspec": {
   "display_name": "Python 3",
   "language": "python",
   "name": "python3"
  },
  "language_info": {
   "codemirror_mode": {
    "name": "ipython",
    "version": 3
   },
   "file_extension": ".py",
   "mimetype": "text/x-python",
   "name": "python",
   "nbconvert_exporter": "python",
   "pygments_lexer": "ipython3",
   "version": "3.7.5"
  }
 },
 "nbformat": 4,
 "nbformat_minor": 2
}
